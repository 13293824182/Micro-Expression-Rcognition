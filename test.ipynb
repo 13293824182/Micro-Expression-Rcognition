{
 "cells": [
  {
   "cell_type": "code",
   "execution_count": 1,
   "metadata": {},
   "outputs": [
    {
     "name": "stderr",
     "output_type": "stream",
     "text": [
      "Using TensorFlow backend.\n"
     ]
    }
   ],
   "source": [
    "from keras_vggface.vggface import VGGFace\n",
    "from keras.applications.inception_v3 import InceptionV3\n",
    "from keras.preprocessing import image\n",
    "from keras.preprocessing.image import ImageDataGenerator\n",
    "from keras_vggface.utils import preprocess_input\n",
    "from keras.models import Model\n",
    "from keras.models import load_model\n",
    "from keras import Sequential\n",
    "from keras import Input\n",
    "from keras.layers import Dense,Flatten,GlobalAveragePooling2D,GlobalMaxPooling2D,MaxPooling2D,Dropout\n",
    "from keras import optimizers\n",
    "from keras import backend as K\n",
    "from keras.utils.np_utils import to_categorical\n",
    "from keras import callbacks\n",
    "\n",
    "from keras.wrappers.scikit_learn import KerasClassifier\n",
    "from sklearn.model_selection import cross_val_score\n",
    "from sklearn.datasets import make_classification\n",
    "\n",
    "import numpy as np\n",
    "import tensorflow as tf"
   ]
  },
  {
   "cell_type": "code",
   "execution_count": null,
   "metadata": {},
   "outputs": [],
   "source": [
    "base_model = VGGFace(model = 'vgg16', weights = 'vggface',input_shape=None,include_top=False)\n",
    "#base_model=InceptionV3(weights='imagenet', include_top=False)\n",
    "base_model.trainable=False\n",
    "x=base_model.output\n",
    "#x_input = Input(shape=(224,224,3))\n",
    "#x =  (conv_base)(x_input)\n",
    "x = GlobalAveragePooling2D()(x)\n",
    "x = Dense(512,activation= 'relu')(x)\n",
    "x=Dropout(rate=0.3)(x)\n",
    "predictions = Dense(5,activation='softmax')(x)\n",
    "model = Model(inputs=base_model.input,outputs=predictions)"
   ]
  },
  {
   "cell_type": "code",
   "execution_count": null,
   "metadata": {},
   "outputs": [],
   "source": [
    "for layer in model.layers:\n",
    "    layer.trainable = False\n",
    "    \n",
    "model.layers[20].trainable=True\n",
    "model.layers[21].trainable=True"
   ]
  },
  {
   "cell_type": "code",
   "execution_count": null,
   "metadata": {},
   "outputs": [],
   "source": [
    "opt = optimizers.Adam(lr=0.00001)\n",
    "model.compile(optimizer=opt,loss='categorical_crossentropy',metrics=['accuracy'])"
   ]
  },
  {
   "cell_type": "code",
   "execution_count": null,
   "metadata": {},
   "outputs": [],
   "source": [
    "hist=model.fit_generator(\n",
    "        train_generator,callbacks=[checkpointer],shuffle=True,\n",
    "        steps_per_epoch=1000,\n",
    "        epochs=20,\n",
    "        validation_data=validation_generator,\n",
    "        validation_steps=100)"
   ]
  },
  {
   "cell_type": "code",
   "execution_count": null,
   "metadata": {},
   "outputs": [],
   "source": [
    "# Wrap Keras model so it can be used by scikit-learn\n",
    "neural_network = KerasClassifier(build_fn=model, \n",
    "                                 epochs=10, \n",
    "                                 batch_size=32, \n",
    "                                 verbose=1)"
   ]
  },
  {
   "cell_type": "code",
   "execution_count": 1,
   "metadata": {},
   "outputs": [
    {
     "name": "stdout",
     "output_type": "stream",
     "text": [
      "Object `ImageDataGenerator` not found.\n"
     ]
    }
   ],
   "source": [
    "ImageDataGenerator?"
   ]
  },
  {
   "cell_type": "code",
   "execution_count": null,
   "metadata": {},
   "outputs": [],
   "source": []
  },
  {
   "cell_type": "code",
   "execution_count": null,
   "metadata": {},
   "outputs": [],
   "source": [
    "# Evaluate neural network using three-fold cross-validation\n",
    "cross_val_score(neural_network, features, target, cv=5)"
   ]
  },
  {
   "cell_type": "code",
   "execution_count": 2,
   "metadata": {},
   "outputs": [],
   "source": [
    "model=load_model(\"models/vggface_classifier/best-weights.10-1.15.hdf5\")"
   ]
  },
  {
   "cell_type": "code",
   "execution_count": 4,
   "metadata": {},
   "outputs": [
    {
     "name": "stdout",
     "output_type": "stream",
     "text": [
      "0 input_1 False\n",
      "1 conv1_1 False\n",
      "2 conv1_2 False\n",
      "3 pool1 False\n",
      "4 conv2_1 False\n",
      "5 conv2_2 False\n",
      "6 pool2 False\n",
      "7 conv3_1 False\n",
      "8 conv3_2 False\n",
      "9 conv3_3 False\n",
      "10 pool3 False\n",
      "11 conv4_1 False\n",
      "12 conv4_2 False\n",
      "13 conv4_3 False\n",
      "14 pool4 False\n",
      "15 conv5_1 False\n",
      "16 conv5_2 True\n",
      "17 conv5_3 False\n",
      "18 pool5 False\n",
      "19 global_average_pooling2d_1 False\n",
      "20 dense_1 False\n",
      "21 dense_2 False\n"
     ]
    }
   ],
   "source": [
    "for i, layer in enumerate(model.layers):\n",
    "   print(i, layer.name,layer.trainable)"
   ]
  }
 ],
 "metadata": {
  "kernelspec": {
   "display_name": "Python 3",
   "language": "python",
   "name": "python3"
  },
  "language_info": {
   "codemirror_mode": {
    "name": "ipython",
    "version": 3
   },
   "file_extension": ".py",
   "mimetype": "text/x-python",
   "name": "python",
   "nbconvert_exporter": "python",
   "pygments_lexer": "ipython3",
   "version": "3.6.4"
  }
 },
 "nbformat": 4,
 "nbformat_minor": 2
}
