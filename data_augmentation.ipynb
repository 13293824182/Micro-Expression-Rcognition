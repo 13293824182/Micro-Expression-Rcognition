{
 "cells": [
  {
   "cell_type": "code",
   "execution_count": 1,
   "metadata": {},
   "outputs": [],
   "source": [
    "import cv2\n",
    "import os"
   ]
  },
  {
   "cell_type": "code",
   "execution_count": 2,
   "metadata": {},
   "outputs": [],
   "source": [
    "file_path=\"/home/qsc/DEMO/VGGFace_TF/video_path.txt\"\n",
    "videos_save_path=\"/home/qsc/DEMO/CASME2_video2img\"\n",
    "videos_src_path=\"/home/qsc/DEMO/CASME2_videos\""
   ]
  },
  {
   "cell_type": "code",
   "execution_count": null,
   "metadata": {},
   "outputs": [],
   "source": [
    "def load_file(examples_list_file):\n",
    "    lines = np.genfromtxt(examples_list_file, delimiter=\"\", dtype=[('col1', 'S120'), ('col2', 'i8')])\n",
    "    #f=open(train_file)\n",
    "    #lines=f.readlines()\n",
    "    examples = []\n",
    "    labels = []\n",
    "    for example, label in lines:\n",
    "        examples.append(example)\n",
    "        labels.append(label)\n",
    "    return np.asarray(examples), np.asarray(labels)"
   ]
  },
  {
   "cell_type": "code",
   "execution_count": null,
   "metadata": {},
   "outputs": [],
   "source": [
    "def video_img(video_path):\n",
    "    cap=cv2.VideoCapture(video_path)\n",
    "    "
   ]
  },
  {
   "cell_type": "code",
   "execution_count": 3,
   "metadata": {},
   "outputs": [],
   "source": []
  },
  {
   "cell_type": "code",
   "execution_count": null,
   "metadata": {},
   "outputs": [],
   "source": []
  },
  {
   "cell_type": "code",
   "execution_count": null,
   "metadata": {},
   "outputs": [],
   "source": [
    "model_dir = os.path.join(os.getcwd(), \"models/vgg16_2FC_TF\")\n",
    "os.makedirs(model_dir, exist_ok=True)\n",
    "print(\"model_dir: \",model_dir)"
   ]
  }
 ],
 "metadata": {
  "kernelspec": {
   "display_name": "Python 3",
   "language": "python",
   "name": "python3"
  },
  "language_info": {
   "codemirror_mode": {
    "name": "ipython",
    "version": 3
   },
   "file_extension": ".py",
   "mimetype": "text/x-python",
   "name": "python",
   "nbconvert_exporter": "python",
   "pygments_lexer": "ipython3",
   "version": "3.6.4"
  }
 },
 "nbformat": 4,
 "nbformat_minor": 2
}
