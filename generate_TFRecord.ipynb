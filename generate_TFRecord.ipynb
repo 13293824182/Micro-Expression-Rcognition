{
 "cells": [
  {
   "cell_type": "code",
   "execution_count": 1,
   "metadata": {},
   "outputs": [],
   "source": [
    "import tensorflow as tf\n",
    "import numpy as np\n",
    "import cv2\n",
    "import os\n",
    "from PIL import Image"
   ]
  },
  {
   "cell_type": "code",
   "execution_count": null,
   "metadata": {},
   "outputs": [],
   "source": []
  },
  {
   "cell_type": "code",
   "execution_count": null,
   "metadata": {},
   "outputs": [],
   "source": []
  },
  {
   "cell_type": "code",
   "execution_count": null,
   "metadata": {},
   "outputs": [],
   "source": [
    "def transform2tfrecord(train_file, name, output_directory, resize_height, resize_width):\n",
    "    if not os.path.exists(output_directory) or os.path.isfile(output_directory):\n",
    "        os.makedirs(output_directory)\n",
    "    _examples, _labels, examples_num = load_file(train_file)\n",
    "    #print(_examples[0])\n",
    "    filename = output_directory + \"/\" + name + '.tfrecords'\n",
    "    writer = tf.python_io.TFRecordWriter(filename)\n",
    "    for i, [example, label] in enumerate(zip(_examples, _labels)):\n",
    "        print('No.%d' % (i))\n",
    "        #print(type(example))\n",
    "        image = extract_image(str(example,encoding='utf-8'), resize_height, resize_width)\n",
    "        print('shape: %d, %d, label: %d' % (image.shape[0], image.shape[1], label))\n",
    "        image_raw = image.tostring()\n",
    "        example = tf.train.Example(features=tf.train.Features(feature={\n",
    "            'image_raw': _bytes_feature(image_raw),\n",
    "            'height': _int64_feature(image.shape[0]),\n",
    "            'width': _int64_feature(image.shape[1]),\n",
    "            'label': _int64_feature(label)\n",
    "        }))\n",
    "        writer.write(example.SerializeToString())\n",
    "    writer.close()"
   ]
  }
 ],
 "metadata": {
  "kernelspec": {
   "display_name": "Python 3",
   "language": "python",
   "name": "python3"
  },
  "language_info": {
   "codemirror_mode": {
    "name": "ipython",
    "version": 3
   },
   "file_extension": ".py",
   "mimetype": "text/x-python",
   "name": "python",
   "nbconvert_exporter": "python",
   "pygments_lexer": "ipython3",
   "version": "3.6.4"
  }
 },
 "nbformat": 4,
 "nbformat_minor": 2
}
