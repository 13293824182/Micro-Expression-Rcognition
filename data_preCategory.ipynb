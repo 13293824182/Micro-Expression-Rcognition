{
 "cells": [
  {
   "cell_type": "code",
   "execution_count": 1,
   "metadata": {},
   "outputs": [],
   "source": [
    "import os,shutil\n",
    "import cv2\n",
    "import numpy as np"
   ]
  },
  {
   "cell_type": "code",
   "execution_count": 2,
   "metadata": {},
   "outputs": [],
   "source": [
    "src_path=\"/home/qsc/DEMO/CASME2_face_crop\"\n",
    "\n",
    "valid_filename=\"/home/qsc/DEMO/VGGFace_TF/k-fold/face_crop_path/valid01.txt\"\n",
    "\n",
    "base_dir_valid=\"/home/qsc/DEMO/VGGFace_TF/data_preCategory/fold_1/valid\"\n",
    "#os.mkdir(dst_path)"
   ]
  },
  {
   "cell_type": "code",
   "execution_count": 3,
   "metadata": {},
   "outputs": [],
   "source": [
    "def load_file(examples_list_file):\n",
    "    lines = np.genfromtxt(examples_list_file, delimiter=\"\", dtype=[('col1', 'S120'), ('col2', 'i8')])\n",
    "    #f=open(train_file)\n",
    "    #lines=f.readlines()\n",
    "    examples = []\n",
    "    labels = []\n",
    "    for example, label in lines:\n",
    "        examples.append(example)\n",
    "        labels.append(label)\n",
    "    return np.asarray(examples), np.asarray(labels)"
   ]
  },
  {
   "cell_type": "code",
   "execution_count": 4,
   "metadata": {},
   "outputs": [
    {
     "ename": "NameError",
     "evalue": "name 'base_dir_train' is not defined",
     "output_type": "error",
     "traceback": [
      "\u001b[0;31m---------------------------------------------------------------------------\u001b[0m",
      "\u001b[0;31mNameError\u001b[0m                                 Traceback (most recent call last)",
      "\u001b[0;32m<ipython-input-4-85dc2fc548e5>\u001b[0m in \u001b[0;36m<module>\u001b[0;34m()\u001b[0m\n\u001b[1;32m      1\u001b[0m \u001b[0memotion_list\u001b[0m\u001b[0;34m=\u001b[0m\u001b[0;34m[\u001b[0m\u001b[0;34m'0'\u001b[0m\u001b[0;34m,\u001b[0m\u001b[0;34m'1'\u001b[0m\u001b[0;34m,\u001b[0m\u001b[0;34m'2'\u001b[0m\u001b[0;34m,\u001b[0m\u001b[0;34m'3'\u001b[0m\u001b[0;34m,\u001b[0m\u001b[0;34m'4'\u001b[0m\u001b[0;34m]\u001b[0m\u001b[0;34m\u001b[0m\u001b[0m\n\u001b[1;32m      2\u001b[0m \u001b[0;32mfor\u001b[0m \u001b[0mi\u001b[0m \u001b[0;32min\u001b[0m \u001b[0memotion_list\u001b[0m\u001b[0;34m:\u001b[0m\u001b[0;34m\u001b[0m\u001b[0m\n\u001b[0;32m----> 3\u001b[0;31m     \u001b[0msubdir_train\u001b[0m\u001b[0;34m=\u001b[0m\u001b[0mos\u001b[0m\u001b[0;34m.\u001b[0m\u001b[0mpath\u001b[0m\u001b[0;34m.\u001b[0m\u001b[0mjoin\u001b[0m\u001b[0;34m(\u001b[0m\u001b[0mbase_dir_train\u001b[0m\u001b[0;34m,\u001b[0m\u001b[0mi\u001b[0m\u001b[0;34m)\u001b[0m\u001b[0;34m\u001b[0m\u001b[0m\n\u001b[0m\u001b[1;32m      4\u001b[0m     \u001b[0msubdir_valid\u001b[0m\u001b[0;34m=\u001b[0m\u001b[0mos\u001b[0m\u001b[0;34m.\u001b[0m\u001b[0mpath\u001b[0m\u001b[0;34m.\u001b[0m\u001b[0mjoin\u001b[0m\u001b[0;34m(\u001b[0m\u001b[0mbase_dir_valid\u001b[0m\u001b[0;34m,\u001b[0m\u001b[0mi\u001b[0m\u001b[0;34m)\u001b[0m\u001b[0;34m\u001b[0m\u001b[0m\n\u001b[1;32m      5\u001b[0m     \u001b[0mos\u001b[0m\u001b[0;34m.\u001b[0m\u001b[0mmakedirs\u001b[0m\u001b[0;34m(\u001b[0m\u001b[0msubdir_train\u001b[0m\u001b[0;34m,\u001b[0m\u001b[0mexist_ok\u001b[0m\u001b[0;34m=\u001b[0m\u001b[0;32mTrue\u001b[0m\u001b[0;34m)\u001b[0m\u001b[0;34m\u001b[0m\u001b[0m\n",
      "\u001b[0;31mNameError\u001b[0m: name 'base_dir_train' is not defined"
     ]
    }
   ],
   "source": [
    "emotion_list=['0','1','2','3','4']\n",
    "for i in emotion_list:\n",
    "    subdir_train=os.path.join(base_dir_train,i)\n",
    "    subdir_valid=os.path.join(base_dir_valid,i)\n",
    "    os.makedirs(subdir_train,exist_ok=True)\n",
    "    os.makedirs(subdir_valid,exist_ok=True)\n",
    "    "
   ]
  },
  {
   "cell_type": "markdown",
   "metadata": {},
   "source": [
    "creat valid dataset"
   ]
  },
  {
   "cell_type": "code",
   "execution_count": 6,
   "metadata": {},
   "outputs": [],
   "source": [
    "emotion_list=['0','1','2','3','4']\n",
    "for i in range(26):\n",
    "    valid_filename=\"/home/qsc/DEMO/VGGFace_TF/k-fold/face_crop_path/valid%02d.txt\"%(i+1)\n",
    "    base_dir_valid=\"/home/qsc/DEMO/VGGFace_TF/data_preCategory/fold_%d/valid\"%(i+1)\n",
    "    os.makedirs(base_dir_valid,exist_ok=True)\n",
    "    for i in emotion_list:\n",
    "        subdir_valid=os.path.join(base_dir_valid,i)\n",
    "        os.makedirs(subdir_valid,exist_ok=True)\n",
    "    lines=np.genfromtxt(valid_filename,delimiter=' ',dtype=[('col1', 'S120'), ('col2', 'i8')])\n",
    "    for example_path,label in lines:\n",
    "        cate_dir=os.path.join(base_dir_valid,str(label))\n",
    "        img_dir,img_name=os.path.split(example_path)\n",
    "        tmp_dir=str(img_dir)[34:-1]\n",
    "        #print(tmp_dir)\n",
    "        dst_tmp=os.path.join(cate_dir,tmp_dir)\n",
    "        #print(dst_tmp)\n",
    "        os.makedirs(dst_tmp,exist_ok=True)\n",
    "        save_name=str(img_name)[2:-1]\n",
    "\n",
    "        dst_path=os.path.join(dst_tmp,save_name)\n",
    "        #print(dst_path)\n",
    "        shutil.copyfile(example_path,dst_path)\n",
    "\n",
    "    \"\"\"\n",
    "        src_tmp=os.path.join(src_path,example_path)\n",
    "    for pic in os.listdir(src_tmp):\n",
    "        print(pic)\n",
    "        src=os.path.join(src_tmp,pic)\n",
    "        dst_tmp1=os.path.join(dst_tmp,pic)\n",
    "        print(dst_tmp)\n",
    "        print(src)\n",
    "        shutil.copyfile(src,dst_tmp1)\n",
    "    \"\"\"\n",
    "\n",
    "    "
   ]
  },
  {
   "cell_type": "markdown",
   "metadata": {},
   "source": [
    "create train dataset"
   ]
  },
  {
   "cell_type": "code",
   "execution_count": 7,
   "metadata": {},
   "outputs": [],
   "source": [
    "for i in range(26):  \n",
    "    train_filename=\"/home/qsc/DEMO/VGGFace_TF/k-fold/face_crop_path/train%02d.txt\"%(i+1)\n",
    "    base_dir_train=\"/home/qsc/DEMO/VGGFace_TF/data_preCategory/fold_%d/train\"%(i+1)\n",
    "    os.makedirs(base_dir_train,exist_ok=True)\n",
    "    for i in emotion_list:\n",
    "        subdir_valid=os.path.join(base_dir_valid,i)\n",
    "        os.makedirs(subdir_valid,exist_ok=True)\n",
    "    lines=np.genfromtxt(train_filename,delimiter=' ',dtype=[('col1', 'S120'), ('col2', 'i8')])\n",
    "    for example_path,label in lines:\n",
    "        cate_dir=os.path.join(base_dir_train,str(label))\n",
    "        img_dir,img_name=os.path.split(example_path)\n",
    "        tmp_dir=str(img_dir)[34:-1]\n",
    "        #print(tmp_dir)\n",
    "        dst_tmp=os.path.join(cate_dir,tmp_dir)\n",
    "        #print(dst_tmp)\n",
    "        os.makedirs(dst_tmp,exist_ok=True)\n",
    "        save_name=str(img_name)[2:-1]\n",
    "\n",
    "        dst_path=os.path.join(dst_tmp,save_name)\n",
    "        #print(dst_path)\n",
    "        shutil.copyfile(example_path,dst_path)"
   ]
  },
  {
   "cell_type": "code",
   "execution_count": 2,
   "metadata": {},
   "outputs": [
    {
     "data": {
      "text/plain": [
       "'sub02/EP01_11f/img46.jpg'"
      ]
     },
     "execution_count": 2,
     "metadata": {},
     "output_type": "execute_result"
    }
   ],
   "source": [
    "a=\"/home/qsc/DEMO/CASME2_face_crop/sub02/EP01_11f/img46.jpg 3\"\n",
    "a[32:-2]"
   ]
  }
 ],
 "metadata": {
  "kernelspec": {
   "display_name": "Python 3",
   "language": "python",
   "name": "python3"
  },
  "language_info": {
   "codemirror_mode": {
    "name": "ipython",
    "version": 3
   },
   "file_extension": ".py",
   "mimetype": "text/x-python",
   "name": "python",
   "nbconvert_exporter": "python",
   "pygments_lexer": "ipython3",
   "version": "3.6.4"
  }
 },
 "nbformat": 4,
 "nbformat_minor": 2
}
