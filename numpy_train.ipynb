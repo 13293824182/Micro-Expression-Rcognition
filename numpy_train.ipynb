{
 "cells": [
  {
   "cell_type": "code",
   "execution_count": 1,
   "metadata": {},
   "outputs": [
    {
     "name": "stderr",
     "output_type": "stream",
     "text": [
      "Using TensorFlow backend.\n"
     ]
    }
   ],
   "source": [
    "from keras_vggface.vggface import VGGFace\n",
    "from keras.preprocessing import image\n",
    "from keras.preprocessing.image import ImageDataGenerator\n",
    "from keras_vggface.utils import preprocess_input\n",
    "from keras.models import Model\n",
    "import numpy as np\n",
    "from keras import Sequential\n",
    "from keras import Input\n",
    "from keras.layers import Dense,Flatten,GlobalAveragePooling2D,GlobalMaxPooling2D,MaxPooling2D\n",
    "from keras import optimizers\n",
    "import tensorflow as tf\n",
    "from keras import backend as K\n",
    "\n",
    "from keras.utils.np_utils import to_categorical\n"
   ]
  },
  {
   "cell_type": "code",
   "execution_count": 2,
   "metadata": {},
   "outputs": [],
   "source": [
    "def load_file(examples_list_file):\n",
    "    lines = np.genfromtxt(examples_list_file, delimiter=\"\", dtype=[('col1', 'S120'), ('col2', 'i8')])\n",
    "    #f=open(train_file)\n",
    "    #lines=f.readlines()\n",
    "    examples = []\n",
    "    labels = []\n",
    "    for example, label in lines:\n",
    "        examples.append(example)\n",
    "        labels.append(label)\n",
    "    return np.asarray(examples), np.asarray(labels)\n",
    "\n",
    "def imgs_input_fn(filenames, labels=None, perform_shuffle=False, repeat_count=1, batch_size=1):\n",
    "    def _parse_function(filename, label):\n",
    "        image_string = tf.read_file(filename)\n",
    "        image = tf.image.decode_image(image_string, channels=3)\n",
    "        image.set_shape([None, None, None])\n",
    "        image = tf.image.resize_images(image, [150, 150])\n",
    "        image.set_shape([150, 150, 3])\n",
    "        #image = tf.reverse(image, axis=[2]) # 'RGB'->'BGR'\n",
    "        #d = dict(zip([\"input_1\"], [image])), label\n",
    "        return image,label\n",
    "    if labels is None:\n",
    "        labels = [0]*len(filenames)\n",
    "    labels=np.array(labels)\n",
    "    # Expand the shape of \"labels\" if necessory\n",
    "    if len(labels.shape) == 1:\n",
    "        labels = np.expand_dims(labels, axis=1)\n",
    "    filenames = tf.constant(filenames)\n",
    "    labels = tf.constant(labels)\n",
    "    labels = tf.cast(labels, tf.float32)\n",
    "    dataset = tf.data.Dataset.from_tensor_slices((filenames, labels))\n",
    "    dataset = dataset.map(_parse_function)\n",
    "    if perform_shuffle:\n",
    "        # Randomizes input using a window of 256 elements (read into memory)\n",
    "        dataset = dataset.shuffle(buffer_size=256)\n",
    "    dataset = dataset.repeat(repeat_count)  # Repeats dataset this # times\n",
    "    dataset = dataset.batch(batch_size)  # Batch size to use\n",
    "    iterator = dataset.make_one_shot_iterator()\n",
    "    batch_features, batch_labels = iterator.get_next()\n",
    "    return batch_features, batch_labels\n",
    "\n",
    "def setup_to_finetune(model):\n",
    "   \"\"\"Freeze the bottom NB_IV3_LAYERS and retrain the remaining top \n",
    "      layers.\n",
    "   note: NB_IV3_LAYERS corresponds to the top 2 inception blocks in \n",
    "         the inceptionv3 architecture\n",
    "   Args:\n",
    "     model: keras model\n",
    "   \"\"\"\n",
    "   for layer in model.layers[:\"pool5\"]:\n",
    "      layer.trainable = False\n",
    "   for layer in model.layers[\"pool5\":]:\n",
    "      layer.trainable = True"
   ]
  },
  {
   "cell_type": "code",
   "execution_count": 3,
   "metadata": {},
   "outputs": [],
   "source": [
    "base_dir = 'k-fold'\n",
    "train_files=base_dir+\"/face_crop_path/train01.txt\"\n",
    "valid_files=base_dir+\"/face_crop_path/valid01.txt\"\n",
    "\n",
    "examples_train,labels_train=load_file(train_files)\n",
    "examples_valid,labels_valid=load_file(valid_files)"
   ]
  },
  {
   "cell_type": "code",
   "execution_count": 4,
   "metadata": {},
   "outputs": [],
   "source": [
    "img_train=np.empty((len(examples_train),224,224,3),dtype=\"float32\")\n",
    "#print (len(examples_train))\n",
    "for i in range(5):\n",
    "    images = image.load_img(examples_train[i], target_size=(224, 224,3))  \n",
    "    x = image.img_to_array(images)\n",
    "    #x = np.expand_dims(x, axis=0) \n",
    "    img_train[i,:,:,:] = x\n",
    "    \n",
    "img_valid=np.empty((len(examples_valid),224,224,3),dtype=\"float32\")\n",
    "#print (len(examples_valid))\n",
    "for i in range(5):\n",
    "    images = image.load_img(examples_train[i], target_size=(224, 224,3))  \n",
    "    x = image.img_to_array(images)\n",
    "    #x = np.expand_dims(x, axis=0) \n",
    "    img_valid[i,:,:,:] = x\n",
    "    \n",
    "#print(labels_train)\n",
    "categorical_labels = to_categorical(labels_train, num_classes=6)[:,1:6]\n",
    "valid_labels=to_categorical(labels_valid,num_classes=6)[:,1:6]"
   ]
  },
  {
   "cell_type": "code",
   "execution_count": 5,
   "metadata": {},
   "outputs": [],
   "source": [
    "conv_base = VGGFace(model = 'vgg16', weights = 'vggface',input_shape=None,include_top=False)\n",
    "conv_base.trainable = False\n",
    "#print(conv_base.summary())\n",
    "x_input = Input(shape=(224,224,3))\n",
    "x =  (conv_base)(x_input)\n",
    "x = GlobalAveragePooling2D()(x)\n",
    "x = Dense(512,activation= 'relu')(x)\n",
    "predictions = Dense(5,activation='softmax')(x)\n",
    "#setup_to_finetune(model)\n",
    "model = Model(inputs=x_input,outputs=predictions)\n",
    "#model.summary()\n",
    "opt = optimizers.Adam(lr=0.0001)\n",
    "\n",
    "model.compile(optimizer=opt,loss='categorical_crossentropy',metrics=['accuracy'])"
   ]
  },
  {
   "cell_type": "code",
   "execution_count": 9,
   "metadata": {},
   "outputs": [
    {
     "name": "stdout",
     "output_type": "stream",
     "text": [
      "Train on 16226 samples, validate on 497 samples\n",
      "Epoch 11/15\n",
      "16226/16226 [==============================] - 79s 5ms/step - loss: 1.5677 - acc: 0.3755 - val_loss: 1.6329 - val_acc: 0.5614\n",
      "Epoch 12/15\n",
      "16226/16226 [==============================] - 78s 5ms/step - loss: 1.5462 - acc: 0.3755 - val_loss: 1.5728 - val_acc: 0.5614\n",
      "Epoch 13/15\n",
      "16226/16226 [==============================] - 77s 5ms/step - loss: 1.5258 - acc: 0.3755 - val_loss: 1.5126 - val_acc: 0.5614\n",
      "Epoch 14/15\n",
      "16226/16226 [==============================] - 79s 5ms/step - loss: 1.5099 - acc: 0.3755 - val_loss: 1.4606 - val_acc: 0.5614\n",
      "Epoch 15/15\n",
      "16226/16226 [==============================] - 78s 5ms/step - loss: 1.4997 - acc: 0.3755 - val_loss: 1.4205 - val_acc: 0.5614\n"
     ]
    }
   ],
   "source": [
    "history=model.fit(img_train,categorical_labels,batch_size=None,epochs=15,\n",
    "          verbose=1, callbacks=None, validation_split=0.0,\n",
    "          validation_data=(img_valid,valid_labels), shuffle=True, \n",
    "          class_weight=None, sample_weight=None, \n",
    "          initial_epoch=10, steps_per_epoch=None, \n",
    "          validation_steps=None)\n"
   ]
  },
  {
   "cell_type": "code",
   "execution_count": 11,
   "metadata": {},
   "outputs": [
    {
     "data": {
      "image/png": "[encoded data removed]",
      "text/plain": [
       "<matplotlib.figure.Figure at 0x7f8e38c53c50>"
      ]
     },
     "metadata": {},
     "output_type": "display_data"
    },
    {
     "data": {
      "image/png": "[encoded data removed]",
      "text/plain": [
       "<matplotlib.figure.Figure at 0x7f8e38c3aa20>"
      ]
     },
     "metadata": {},
     "output_type": "display_data"
    }
   ],
   "source": [
    "import matplotlib.pyplot as plt\n",
    "acc = history.history['acc']\n",
    "val_acc = history.history['val_acc']\n",
    "loss = history.history['loss']\n",
    "val_loss = history.history['val_loss']\n",
    "epochs = range(1, len(acc) + 1)\n",
    "plt.plot(epochs, acc, 'bo', label='Training acc')\n",
    "plt.plot(epochs, val_acc, 'b', label='Validation acc')\n",
    "plt.title('Training and validation accuracy')\n",
    "plt.legend()\n",
    "plt.figure()\n",
    "plt.plot(epochs, loss, 'bo', label='Training loss')\n",
    "plt.plot(epochs, val_loss, 'b', label='Validation loss')\n",
    "plt.title('Training and validation loss')\n",
    "plt.legend()\n",
    "plt.show()"
   ]
  },
  {
   "cell_type": "code",
   "execution_count": null,
   "metadata": {},
   "outputs": [],
   "source": []
  }
 ],
 "metadata": {
  "kernelspec": {
   "display_name": "Python 3",
   "language": "python",
   "name": "python3"
  },
  "language_info": {
   "codemirror_mode": {
    "name": "ipython",
    "version": 3
   },
   "file_extension": ".py",
   "mimetype": "text/x-python",
   "name": "python",
   "nbconvert_exporter": "python",
   "pygments_lexer": "ipython3",
   "version": "3.6.4"
  }
 },
 "nbformat": 4,
 "nbformat_minor": 2
}
